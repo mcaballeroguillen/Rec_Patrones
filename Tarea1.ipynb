{
 "cells": [
  {
   "cell_type": "code",
   "execution_count": 52,
   "metadata": {},
   "outputs": [
    {
     "name": "stdout",
     "output_type": "stream",
     "text": [
      "<PIL.PpmImagePlugin.PpmImageFile image mode=L size=168x192 at 0x7F4280399EF0>\n",
      "1 [[255 255 255 ...,  18  23  27]]\n",
      "32256 [255 255 255 ...,  18  23  27]\n"
     ]
    }
   ],
   "source": [
    "import numpy as np\n",
    "from PIL import Image\n",
    "\n",
    "img = Image.open('/home/marco/Base_Patrones/CroppedYale/yaleB11/yaleB11_P00A+085E+20.pgm')\n",
    "arr = np.array(img)\n",
    "shape = arr.shape\n",
    "flat_arr = arr.ravel()\n",
    "vector = np.matrix(flat_arr)\n",
    "print(img) \n",
    "print(len(vector),vector)\n",
    "print(len(flat_arr),flat_arr)\n",
    "\n",
    "\n",
    "\n"
   ]
  },
  {
   "cell_type": "code",
   "execution_count": 3,
   "metadata": {},
   "outputs": [
    {
     "name": "stdout",
     "output_type": "stream",
     "text": [
      "196\n",
      "56\n"
     ]
    }
   ],
   "source": [
    "import numpy as np\n",
    "from PIL import Image\n",
    "\n",
    "Im_traing= [\"-005E-10\",\"-020E-10\",\"-070E+45\",\"+000A+000E\",\"+005E-10\",\"020E-10\",\"070E+45\"]\n",
    "Im_test=[\"-110E+65\",\"+110E+65\"]\n",
    "Traing=[]\n",
    "for x in range(28):\n",
    "    for s in Im_traing:\n",
    "        sujeto=11+x\n",
    "        img_d=\"/home/marco/Base_Patrones/CroppedYale/\"+\"yaleB\"+str(sujeto)+\"/yaleB\"+str(sujeto)+\"_P00A\"+s\n",
    "        img = Image.open('/home/marco/Base_Patrones/CroppedYale/yaleB11/yaleB11_P00A+085E+20.pgm')\n",
    "        arr = np.array(img)\n",
    "        flat_arr = arr.ravel()\n",
    "        s=[flat_arr/255,sujeto]\n",
    "        Traing.append(s)\n",
    "Test=[]\n",
    "for x in range(28):\n",
    "    for s in Im_test:\n",
    "        sujeto=11+x\n",
    "        img_d=\"/home/marco/Base_Patrones/CroppedYale/\"+\"yaleB\"+str(sujeto)+\"/yaleB\"+str(sujeto)+\"_P00A\"+s\n",
    "        img = Image.open('/home/marco/Base_Patrones/CroppedYale/yaleB11/yaleB11_P00A+085E+20.pgm')\n",
    "        arr = np.array(img)\n",
    "        flat_arr = arr.ravel()\n",
    "        s=[flat_arr/255,sujeto]\n",
    "        Test.append(s)    \n",
    "print(len(Traing))\n",
    "print(len(Test))"
   ]
  },
  {
   "cell_type": "code",
   "execution_count": 4,
   "metadata": {},
   "outputs": [
    {
     "name": "stdout",
     "output_type": "stream",
     "text": [
      "55\n"
     ]
    }
   ],
   "source": [
    "from IPython.display import clear_output\n",
    "from sklearn.model_selection import train_test_split\n",
    "from sklearn.preprocessing import MinMaxScaler\n",
    "from sklearn.neighbors import KNeighborsClassifier\n",
    "from sklearn.metrics import classification_report\n",
    "from sklearn.metrics import confusion_matrix\n",
    "import numpy as np\n",
    "X_train=np.matrix(np.empty(shape=(0,32256)))\n",
    "Y_train=np.matrix(np.empty(shape=(0,1)))\n",
    "\n",
    "X_test= np.matrix(np.empty(shape=(0,32256)))\n",
    "Y_test=np.matrix(np.empty(shape=(0,1)))\n",
    "for x in range(len(Traing)):\n",
    "    clear_output()\n",
    "    print(x)\n",
    "    s=[]\n",
    "    s.append(Traing[x][1])\n",
    "    X_train= np.insert(X_train,x,Traing[x][0],axis=0)\n",
    "    Y_train= np.insert(Y_train,0,s,axis=0)\n",
    "\n",
    "\n",
    "for x in range(len(Test)):\n",
    "    clear_output()\n",
    "    print(x)\n",
    "    s=[]\n",
    "    s.append(Test[x][1])\n",
    "    X_test= np.insert(X_test,x,Test[x][0],axis=0)\n",
    "    Y_test= np.insert(Y_test,0,s,axis=0)\n",
    "\n",
    "\n",
    "\n"
   ]
  },
  {
   "cell_type": "code",
   "execution_count": 5,
   "metadata": {},
   "outputs": [
    {
     "data": {
      "text/plain": [
       "(196, 1)"
      ]
     },
     "execution_count": 5,
     "metadata": {},
     "output_type": "execute_result"
    }
   ],
   "source": [
    "X_train.shape\n",
    "Y_train.shape"
   ]
  },
  {
   "cell_type": "code",
   "execution_count": 6,
   "metadata": {},
   "outputs": [
    {
     "data": {
      "text/plain": [
       "(56, 32256)"
      ]
     },
     "execution_count": 6,
     "metadata": {},
     "output_type": "execute_result"
    }
   ],
   "source": [
    "X_test.shape"
   ]
  },
  {
   "cell_type": "code",
   "execution_count": 7,
   "metadata": {},
   "outputs": [
    {
     "data": {
      "text/plain": [
       "(56, 1)"
      ]
     },
     "execution_count": 7,
     "metadata": {},
     "output_type": "execute_result"
    }
   ],
   "source": [
    "Y_test.shape"
   ]
  },
  {
   "cell_type": "code",
   "execution_count": 8,
   "metadata": {},
   "outputs": [
    {
     "name": "stderr",
     "output_type": "stream",
     "text": [
      "/home/marco/anaconda2/envs/py36/lib/python3.6/site-packages/ipykernel_launcher.py:4: DataConversionWarning: A column-vector y was passed when a 1d array was expected. Please change the shape of y to (n_samples, ), for example using ravel().\n",
      "  after removing the cwd from sys.path.\n"
     ]
    },
    {
     "name": "stdout",
     "output_type": "stream",
     "text": [
      "Accuracy of K-NN classifier on training set: 0.04\n",
      "Accuracy of K-NN classifier on test set: 0.04\n"
     ]
    }
   ],
   "source": [
    "n_neighbors = 7\n",
    " \n",
    "knn = KNeighborsClassifier(n_neighbors)\n",
    "knn.fit(X_train, Y_train)\n",
    "\n",
    "print('Accuracy of K-NN classifier on training set: {:.2f}'\n",
    "     .format(knn.score(X_train, Y_train)))\n",
    "print('Accuracy of K-NN classifier on test set: {:.2f}'\n",
    "     .format(knn.score(X_test, Y_test)))\n"
   ]
  },
  {
   "cell_type": "code",
   "execution_count": 9,
   "metadata": {},
   "outputs": [
    {
     "name": "stdout",
     "output_type": "stream",
     "text": [
      "[[0 0 0 0 0 0 0 0 0 0 0 0 0 0 0 0 0 0 0 0 0 0 0 0 0 0 0 2]\n",
      " [0 0 0 0 0 0 0 0 0 0 0 0 0 0 0 0 0 0 0 0 0 0 0 0 0 0 0 2]\n",
      " [0 0 0 0 0 0 0 0 0 0 0 0 0 0 0 0 0 0 0 0 0 0 0 0 0 0 0 2]\n",
      " [0 0 0 0 0 0 0 0 0 0 0 0 0 0 0 0 0 0 0 0 0 0 0 0 0 0 0 2]\n",
      " [0 0 0 0 0 0 0 0 0 0 0 0 0 0 0 0 0 0 0 0 0 0 0 0 0 0 0 2]\n",
      " [0 0 0 0 0 0 0 0 0 0 0 0 0 0 0 0 0 0 0 0 0 0 0 0 0 0 0 2]\n",
      " [0 0 0 0 0 0 0 0 0 0 0 0 0 0 0 0 0 0 0 0 0 0 0 0 0 0 0 2]\n",
      " [0 0 0 0 0 0 0 0 0 0 0 0 0 0 0 0 0 0 0 0 0 0 0 0 0 0 0 2]\n",
      " [0 0 0 0 0 0 0 0 0 0 0 0 0 0 0 0 0 0 0 0 0 0 0 0 0 0 0 2]\n",
      " [0 0 0 0 0 0 0 0 0 0 0 0 0 0 0 0 0 0 0 0 0 0 0 0 0 0 0 2]\n",
      " [0 0 0 0 0 0 0 0 0 0 0 0 0 0 0 0 0 0 0 0 0 0 0 0 0 0 0 2]\n",
      " [0 0 0 0 0 0 0 0 0 0 0 0 0 0 0 0 0 0 0 0 0 0 0 0 0 0 0 2]\n",
      " [0 0 0 0 0 0 0 0 0 0 0 0 0 0 0 0 0 0 0 0 0 0 0 0 0 0 0 2]\n",
      " [0 0 0 0 0 0 0 0 0 0 0 0 0 0 0 0 0 0 0 0 0 0 0 0 0 0 0 2]\n",
      " [0 0 0 0 0 0 0 0 0 0 0 0 0 0 0 0 0 0 0 0 0 0 0 0 0 0 0 2]\n",
      " [0 0 0 0 0 0 0 0 0 0 0 0 0 0 0 0 0 0 0 0 0 0 0 0 0 0 0 2]\n",
      " [0 0 0 0 0 0 0 0 0 0 0 0 0 0 0 0 0 0 0 0 0 0 0 0 0 0 0 2]\n",
      " [0 0 0 0 0 0 0 0 0 0 0 0 0 0 0 0 0 0 0 0 0 0 0 0 0 0 0 2]\n",
      " [0 0 0 0 0 0 0 0 0 0 0 0 0 0 0 0 0 0 0 0 0 0 0 0 0 0 0 2]\n",
      " [0 0 0 0 0 0 0 0 0 0 0 0 0 0 0 0 0 0 0 0 0 0 0 0 0 0 0 2]\n",
      " [0 0 0 0 0 0 0 0 0 0 0 0 0 0 0 0 0 0 0 0 0 0 0 0 0 0 0 2]\n",
      " [0 0 0 0 0 0 0 0 0 0 0 0 0 0 0 0 0 0 0 0 0 0 0 0 0 0 0 2]\n",
      " [0 0 0 0 0 0 0 0 0 0 0 0 0 0 0 0 0 0 0 0 0 0 0 0 0 0 0 2]\n",
      " [0 0 0 0 0 0 0 0 0 0 0 0 0 0 0 0 0 0 0 0 0 0 0 0 0 0 0 2]\n",
      " [0 0 0 0 0 0 0 0 0 0 0 0 0 0 0 0 0 0 0 0 0 0 0 0 0 0 0 2]\n",
      " [0 0 0 0 0 0 0 0 0 0 0 0 0 0 0 0 0 0 0 0 0 0 0 0 0 0 0 2]\n",
      " [0 0 0 0 0 0 0 0 0 0 0 0 0 0 0 0 0 0 0 0 0 0 0 0 0 0 0 2]\n",
      " [0 0 0 0 0 0 0 0 0 0 0 0 0 0 0 0 0 0 0 0 0 0 0 0 0 0 0 2]]\n",
      "             precision    recall  f1-score   support\n",
      "\n",
      "       11.0       0.00      0.00      0.00         2\n",
      "       12.0       0.00      0.00      0.00         2\n",
      "       13.0       0.00      0.00      0.00         2\n",
      "       14.0       0.00      0.00      0.00         2\n",
      "       15.0       0.00      0.00      0.00         2\n",
      "       16.0       0.00      0.00      0.00         2\n",
      "       17.0       0.00      0.00      0.00         2\n",
      "       18.0       0.00      0.00      0.00         2\n",
      "       19.0       0.00      0.00      0.00         2\n",
      "       20.0       0.00      0.00      0.00         2\n",
      "       21.0       0.00      0.00      0.00         2\n",
      "       22.0       0.00      0.00      0.00         2\n",
      "       23.0       0.00      0.00      0.00         2\n",
      "       24.0       0.00      0.00      0.00         2\n",
      "       25.0       0.00      0.00      0.00         2\n",
      "       26.0       0.00      0.00      0.00         2\n",
      "       27.0       0.00      0.00      0.00         2\n",
      "       28.0       0.00      0.00      0.00         2\n",
      "       29.0       0.00      0.00      0.00         2\n",
      "       30.0       0.00      0.00      0.00         2\n",
      "       31.0       0.00      0.00      0.00         2\n",
      "       32.0       0.00      0.00      0.00         2\n",
      "       33.0       0.00      0.00      0.00         2\n",
      "       34.0       0.00      0.00      0.00         2\n",
      "       35.0       0.00      0.00      0.00         2\n",
      "       36.0       0.00      0.00      0.00         2\n",
      "       37.0       0.00      0.00      0.00         2\n",
      "       38.0       0.04      1.00      0.07         2\n",
      "\n",
      "avg / total       0.00      0.04      0.00        56\n",
      "\n"
     ]
    },
    {
     "name": "stderr",
     "output_type": "stream",
     "text": [
      "/home/marco/anaconda2/envs/py36/lib/python3.6/site-packages/sklearn/metrics/classification.py:1113: UndefinedMetricWarning: Precision and F-score are ill-defined and being set to 0.0 in labels with no predicted samples.\n",
      "  'precision', 'predicted', average, warn_for)\n"
     ]
    }
   ],
   "source": [
    "pred = knn.predict(X_test)\n",
    "print(confusion_matrix(Y_test, pred))\n",
    "print(classification_report(Y_test, pred))\n"
   ]
  },
  {
   "cell_type": "code",
   "execution_count": 21,
   "metadata": {
    "collapsed": true
   },
   "outputs": [],
   "source": [
    "from sklearn.decomposition import PCA\n",
    "import matplotlib.pyplot as plt\n",
    "def myPCA(M,k):\n",
    "    pca = PCA(n_components = k)\n",
    "    kk = pca.fit_transform(M)\n",
    "    print(kk.shape)"
   ]
  },
  {
   "cell_type": "code",
   "execution_count": 22,
   "metadata": {},
   "outputs": [
    {
     "name": "stdout",
     "output_type": "stream",
     "text": [
      "(196, 2)\n"
     ]
    },
    {
     "name": "stderr",
     "output_type": "stream",
     "text": [
      "/home/marco/anaconda2/envs/py36/lib/python3.6/site-packages/sklearn/decomposition/pca.py:476: RuntimeWarning: divide by zero encountered in true_divide\n",
      "  self.explained_variance_ / total_var.sum()\n"
     ]
    }
   ],
   "source": [
    "myPCA(X_train,2)\n",
    "\n"
   ]
  },
  {
   "cell_type": "code",
   "execution_count": null,
   "metadata": {
    "collapsed": true
   },
   "outputs": [],
   "source": []
  }
 ],
 "metadata": {
  "kernelspec": {
   "display_name": "Python 3",
   "language": "python",
   "name": "python3"
  },
  "language_info": {
   "codemirror_mode": {
    "name": "ipython",
    "version": 3
   },
   "file_extension": ".py",
   "mimetype": "text/x-python",
   "name": "python",
   "nbconvert_exporter": "python",
   "pygments_lexer": "ipython3",
   "version": "3.6.1"
  }
 },
 "nbformat": 4,
 "nbformat_minor": 2
}
