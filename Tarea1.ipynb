{
 "cells": [
  {
   "cell_type": "code",
   "execution_count": 17,
   "metadata": {},
   "outputs": [
    {
     "name": "stdout",
     "output_type": "stream",
     "text": [
      "<PIL.PpmImagePlugin.PpmImageFile image mode=L size=168x192 at 0x7F942311D0F0>\n",
      "1\n",
      "32256\n",
      "168\n"
     ]
    }
   ],
   "source": [
    "import numpy as np\n",
    "from PIL import Image\n",
    "\n",
    "img = Image.open('/home/marco/Base_Patrones/CroppedYale/yaleB01/yaleB01_P00A-005E-10.pgm')\n",
    "arr = np.array(img)\n",
    "shape = arr.shape\n",
    "flat_arr = arr.ravel()\n",
    "vector = np.matrix(flat_arr)\n",
    "print(img) \n",
    "print(len(vector))\n",
    "print(len(flat_arr))\n",
    "print(len(arr[0]))\n",
    "\n",
    "\n"
   ]
  },
  {
   "cell_type": "code",
   "execution_count": null,
   "metadata": {
    "collapsed": true
   },
   "outputs": [],
   "source": []
  }
 ],
 "metadata": {
  "kernelspec": {
   "display_name": "Python 3",
   "language": "python",
   "name": "python3"
  },
  "language_info": {
   "codemirror_mode": {
    "name": "ipython",
    "version": 3
   },
   "file_extension": ".py",
   "mimetype": "text/x-python",
   "name": "python",
   "nbconvert_exporter": "python",
   "pygments_lexer": "ipython3",
   "version": "3.6.1"
  }
 },
 "nbformat": 4,
 "nbformat_minor": 2
}
