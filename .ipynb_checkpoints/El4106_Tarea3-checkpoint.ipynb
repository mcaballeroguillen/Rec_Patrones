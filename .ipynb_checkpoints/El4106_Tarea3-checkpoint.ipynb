{
 "cells": [
  {
   "cell_type": "markdown",
   "metadata": {
    "colab_type": "text",
    "id": "eGwGsYYeahMQ"
   },
   "source": [
    "## B.1 Importar librerías"
   ]
  },
  {
   "cell_type": "code",
   "execution_count": 0,
   "metadata": {
    "colab": {},
    "colab_type": "code",
    "collapsed": true,
    "id": "EonAEzG0ahMS"
   },
   "outputs": [],
   "source": [
    "import numpy as np\n",
    "from sklearn.datasets import make_moons, fetch_covtype\n",
    "from sklearn.model_selection import train_test_split\n",
    "from sklearn.metrics import roc_curve, auc, accuracy_score, confusion_matrix\n",
    "from sklearn.svm import SVC\n",
    "from sklearn.ensemble import RandomForestClassifier\n",
    "%matplotlib inline\n",
    "import matplotlib.pylab as plt\n",
    "import itertools"
   ]
  },
  {
   "cell_type": "markdown",
   "metadata": {
    "colab_type": "text",
    "id": "8aMmmpIvahMa"
   },
   "source": [
    "## B.2 Creacion de dataset \"Two Moons\""
   ]
  },
  {
   "cell_type": "code",
   "execution_count": 0,
   "metadata": {
    "colab": {},
    "colab_type": "code",
    "collapsed": true,
    "id": "EFbwExe0ahMb"
   },
   "outputs": [],
   "source": [
    "N = 2000\n",
    "X, Y = make_moons(n_samples=N, noise=0.25)\n",
    "fig = plt.figure(figsize=(6, 4))\n",
    "ax = fig.add_subplot(1, 1, 1)\n",
    "ax.scatter(X[Y==0, 0], X[Y==0, 1], c='b', marker='o', linewidth=0, alpha=0.4, s=30, label='Clase 1')\n",
    "ax.scatter(X[Y==1, 0], X[Y==1, 1], c='g', marker='o', linewidth=0, alpha=0.4, s=30, label='Clase 2')\n",
    "plt.grid()\n",
    "plt.legend()\n",
    "X_train, X_test, Y_train, Y_test = train_test_split(X, Y, train_size=0.5, stratify=Y)\n",
    "x_min, x_max = X[:, 0].min() - 0.5, X[:, 0].max() + 0.5\n",
    "y_min, y_max = X[:, 1].min() - 0.5, X[:, 1].max() + 0.5\n",
    "xx, yy = np.meshgrid(np.arange(x_min, x_max, 0.05), np.arange(y_min, y_max, 0.05))"
   ]
  },
  {
   "cell_type": "markdown",
   "metadata": {
    "colab_type": "text",
    "id": "IJkzPDkcahMg"
   },
   "source": [
    "## B.3 Support Vector Machine\n",
    "\n",
    "- Seleccione kernel='linear' y ajuste C $\\in [0.1, 1.0, 10.0, 100.0]$\n",
    "- Seleccione kernel='rbf' y ajuste C y gamma $\\in [0.1, 1.0, 10.0, 100.0]$\n"
   ]
  },
  {
   "cell_type": "code",
   "execution_count": 0,
   "metadata": {
    "colab": {},
    "colab_type": "code",
    "collapsed": true,
    "id": "1g6MIWpTahMi"
   },
   "outputs": [],
   "source": [
    "classifier = SVC(C=1.0, kernel='linear', gamma=1.0, probability=True)\n",
    "classifier.fit(X_train, Y_train)\n",
    "\n",
    "\n",
    "fig = plt.figure(figsize=(12, 10))\n",
    "\n",
    "ax = fig.add_subplot(2, 2, 1)\n",
    "Y_pred = classifier.predict(X_test)\n",
    "ax.scatter(X_test[Y_test==0, 0], X_test[Y_test==0, 1], c=Y_pred[Y_test==0], \n",
    "           marker='x', cmap=plt.cm.RdBu, vmin=0, vmax=1,\n",
    "           linewidth=1, alpha=0.5, s=20, label='Clase 1')\n",
    "ax.scatter(X_test[Y_test==1, 0], X_test[Y_test==1, 1], c=Y_pred[Y_test==1], \n",
    "           marker='o', cmap=plt.cm.RdBu, vmin=0, vmax=1, \n",
    "           linewidth=0, alpha=0.5, s=20, label='Clase 2')\n",
    "plt.title('Clasificaci\\'on en el conjunto de test')\n",
    "\n",
    "ax = fig.add_subplot(2, 2, 3)\n",
    "Z = classifier.predict_proba(np.c_[xx.ravel(), yy.ravel()])[:, 1]\n",
    "ax.contourf(xx, yy, Z.reshape(xx.shape), cmap=plt.cm.RdBu, alpha=0.5)\n",
    "ax.scatter(X[Y==0, 0], X[Y==0, 1], c='k', marker='x', linewidth=1, alpha=0.5, s=20, label='Clase 1')\n",
    "ax.scatter(X[Y==1, 0], X[Y==1, 1], c='k', marker='o', linewidth=0, alpha=0.5, s=20, label='Clase 2')\n",
    "plt.title('Probabilidad de clasificaci\\'on')\n",
    "\n",
    "ax = fig.add_subplot(2, 2, 2)\n",
    "Y_pred = classifier.predict_proba(X_test)\n",
    "fpr, tpr, th = roc_curve(Y_test, Y_pred[:, 1])\n",
    "ax.plot(fpr, tpr, linewidth=4, alpha=0.5, label='Test')\n",
    "print(\"Area bajo la curva ROC (validation): %f\" %(auc(fpr, tpr)))\n",
    "fpr, tpr, th = roc_curve(Y_train, classifier.predict_proba(X_train)[:, 1])\n",
    "ax.plot(fpr, tpr, linewidth=4, alpha=0.5, label='Train')\n",
    "print(\"Area bajo la curva ROC (train): %f\" %(auc(fpr, tpr)))\n",
    "plt.legend(loc=4)\n",
    "ax.set_xlabel('False Positive Rate')\n",
    "ax.set_ylabel('True Positive Rate')\n",
    "ax.set_title('curva ROC')\n",
    "plt.grid()\n",
    "\n",
    "ax = fig.add_subplot(2, 2, 4)\n",
    "ax.scatter(X_train[Y_train==0, 0], X_train[Y_train==0, 1], c='k', \n",
    "           marker='x', linewidth=1, alpha=0.5, s=20, label='Clase 1')\n",
    "ax.scatter(X_train[Y_train==1, 0], X_train[Y_train==1, 1], c='k', \n",
    "           marker='o', linewidth=0, alpha=0.5, s=20, label='Clase 2')\n",
    "ax.scatter(X_train[classifier.support_, 0], X_train[classifier.support_, 1], \n",
    "           c='r', linewidth=1, alpha=0.25, s=100)\n",
    "plt.title('Vectores de soporte')\n",
    "\n",
    "plt.tight_layout()\n",
    "print(\"%d SVs para la clase 1\" % (classifier.n_support_[0]))\n",
    "print(\"%d SVs para la clase 2\" % (classifier.n_support_[1]))"
   ]
  },
  {
   "cell_type": "markdown",
   "metadata": {
    "colab_type": "text",
    "collapsed": true,
    "id": "Vw-0FPtqahMm"
   },
   "source": [
    "## B.4 Random Forests"
   ]
  },
  {
   "cell_type": "code",
   "execution_count": 0,
   "metadata": {
    "colab": {},
    "colab_type": "code",
    "collapsed": true,
    "id": "narhiJSzahMn"
   },
   "outputs": [],
   "source": [
    "classifier = RandomForestClassifier(\n",
    "    n_estimators=50,\n",
    "    criterion='gini',\n",
    "    max_depth=10,\n",
    "    max_features='sqrt',\n",
    "    n_jobs=-1\n",
    ")\n",
    "classifier.fit(X_train, Y_train)\n",
    "\n",
    "\n",
    "fig = plt.figure(figsize=(12, 10))\n",
    "\n",
    "ax = fig.add_subplot(2, 2, 1)\n",
    "Y_pred = classifier.predict(X_test)\n",
    "ax.scatter(X_test[Y_test==0, 0], X_test[Y_test==0, 1], c=Y_pred[Y_test==0], \n",
    "           marker='x', cmap=plt.cm.RdBu, vmin=0, vmax=1,\n",
    "           linewidth=1, alpha=0.5, s=20, label='Clase 1')\n",
    "ax.scatter(X_test[Y_test==1, 0], X_test[Y_test==1, 1], c=Y_pred[Y_test==1], \n",
    "           marker='o', cmap=plt.cm.RdBu, vmin=0, vmax=1, \n",
    "           linewidth=0, alpha=0.5, s=20, label='Clase 2')\n",
    "plt.title('Clasificaci\\'on en el conjunto de test')\n",
    "\n",
    "ax = fig.add_subplot(2, 2, 3)\n",
    "Z = classifier.predict_proba(np.c_[xx.ravel(), yy.ravel()])[:, 1]\n",
    "ax.contourf(xx, yy, Z.reshape(xx.shape), cmap=plt.cm.RdBu, alpha=0.5)\n",
    "ax.scatter(X[Y==0, 0], X[Y==0, 1], c='k', marker='x', linewidth=1, alpha=0.5, s=20, label='Clase 1')\n",
    "ax.scatter(X[Y==1, 0], X[Y==1, 1], c='k', marker='o', linewidth=0, alpha=0.5, s=20, label='Clase 2')\n",
    "plt.title('Probabilidad de clasificaci\\'on')\n",
    "\n",
    "ax = fig.add_subplot(2, 2, 2)\n",
    "Y_pred = classifier.predict_proba(X_test)\n",
    "fpr, tpr, th = roc_curve(Y_test, Y_pred[:, 1])\n",
    "ax.plot(fpr, tpr, linewidth=4, alpha=0.5, label='Test')\n",
    "print(\"Area bajo la curva ROC (test): %f\" %(auc(fpr, tpr)))\n",
    "fpr, tpr, th = roc_curve(Y_train, classifier.predict_proba(X_train)[:, 1])\n",
    "ax.plot(fpr, tpr, linewidth=4, alpha=0.5, label='Train')\n",
    "print(\"Area bajo la curva ROC (train): %f\" %(auc(fpr, tpr)))\n",
    "plt.legend(loc=4)\n",
    "ax.set_xlabel('False Positive Rate')\n",
    "ax.set_ylabel('True Positive Rate')\n",
    "ax.set_title('curva ROC')\n",
    "plt.grid()"
   ]
  },
  {
   "cell_type": "markdown",
   "metadata": {
    "colab_type": "text",
    "id": "o-JjdSKYahMr"
   },
   "source": [
    "## B.5 Creacion de dataset \"Covertype\""
   ]
  },
  {
   "cell_type": "code",
   "execution_count": 0,
   "metadata": {
    "colab": {},
    "colab_type": "code",
    "collapsed": true,
    "id": "nNuCYvPoahMt"
   },
   "outputs": [],
   "source": [
    "dataset = fetch_covtype()\n",
    "\n",
    "def dense_to_one_hot(dense):\n",
    "    a = np.zeros((len(dense), int(np.max(dense))))\n",
    "    a[np.arange(len(dense)), dense-1] = 1\n",
    "    return a\n",
    "\n",
    "X = dataset.data\n",
    "Y = dataset.target\n",
    "X_train, X_test, Y_train, Y_test = train_test_split(X, Y, train_size=0.7, stratify=Y)\n",
    "print('Ejemplos por clase (entrenamiento)')\n",
    "Y_train_one_hot = dense_to_one_hot(Y_train)\n",
    "print(Y_train_one_hot.sum(axis=0))\n",
    "\n",
    "print('Ejemplos por clase (validacion)')\n",
    "Y_test_one_hot = dense_to_one_hot(Y_test)\n",
    "print(Y_test_one_hot.sum(axis=0))"
   ]
  },
  {
   "cell_type": "markdown",
   "metadata": {
    "colab_type": "text",
    "id": "ASd6Apj5ahMy"
   },
   "source": [
    "## B.6 RF para Covertype\n",
    "\n",
    "Probar con class_weight $\\in (\\text{\"balanced\"}, None)$\n",
    "\n",
    "Dado n_estimators=30, ajustar max_depth $\\in [10, 30, 50]$"
   ]
  },
  {
   "cell_type": "code",
   "execution_count": 0,
   "metadata": {
    "colab": {},
    "colab_type": "code",
    "collapsed": true,
    "id": "2FRsXnx6ahM0"
   },
   "outputs": [],
   "source": [
    "classifier = RandomForestClassifier(\n",
    "    n_estimators=30,\n",
    "    criterion='gini',\n",
    "    max_depth=10,\n",
    "    max_features='sqrt',\n",
    "    n_jobs=-1,\n",
    "    class_weight='balanced'\n",
    ")\n",
    "classifier.fit(X_train, Y_train)"
   ]
  },
  {
   "cell_type": "markdown",
   "metadata": {
    "colab_type": "text",
    "id": "ErcjLMLuahM4"
   },
   "source": [
    "## B.7 performance de RF en Covertype"
   ]
  },
  {
   "cell_type": "code",
   "execution_count": 0,
   "metadata": {
    "colab": {},
    "colab_type": "code",
    "collapsed": true,
    "id": "LyHOhgIgahM7",
    "scrolled": false
   },
   "outputs": [],
   "source": [
    "Y_pred = classifier.predict(X_test)\n",
    "cm = confusion_matrix(Y_test, Y_pred)\n",
    "\n",
    "def mean_recall(cm):\n",
    "    cm = cm.astype('float') / cm.sum(axis=1)[:, np.newaxis]\n",
    "    return cm.diagonal().mean()\n",
    "\n",
    "def plot_confusion_matrix(cm, classes,\n",
    "                          normalized=True,\n",
    "                          cmap=plt.cm.Blues):\n",
    "    \"\"\"\n",
    "    This function prints and plots the confusion matrix.\n",
    "    Normalization can be applied by setting `normalize=True`.\n",
    "    \"\"\"\n",
    "    if normalized:\n",
    "        cm = cm.astype('float') / cm.sum(axis=1)[:, np.newaxis]\n",
    "        title='Matriz de confusion normalizada'\n",
    "        fmt = '.2f'\n",
    "    else:\n",
    "        title='Matriz de confusion no normalizada'\n",
    "        fmt = 'd'\n",
    "        \n",
    "    plt.figure(figsize=(8, 6), dpi=90)\n",
    "    plt.imshow(cm, interpolation='nearest', cmap=cmap)\n",
    "    plt.title(title)\n",
    "    plt.colorbar()\n",
    "    tick_marks = np.arange(len(classes))\n",
    "    plt.xticks(tick_marks, classes, rotation=45)\n",
    "    plt.yticks(tick_marks, classes)\n",
    "\n",
    "    \n",
    "    thresh = cm.max() / 2.\n",
    "    for i, j in itertools.product(range(cm.shape[0]), range(cm.shape[1])):\n",
    "        plt.text(j, i, format(cm[i, j], fmt),\n",
    "                 horizontalalignment=\"center\",\n",
    "                 color=\"white\" if cm[i, j] > thresh else \"black\")\n",
    "\n",
    "    plt.ylabel('True label')\n",
    "    plt.xlabel('Predicted label')\n",
    "    plt.grid('off')\n",
    "    plt.tight_layout()\n",
    "target_names = [\n",
    "    'Spruce-Fir',\n",
    "    'Lodgepole Pine',\n",
    "    'Ponderosa Pine',\n",
    "    'Cottonwood/Willow',\n",
    "    'Aspen',\n",
    "    'Douglas-fir',\n",
    "    'Krummholz'\n",
    "]\n",
    "plot_confusion_matrix(cm, target_names, normalized=False)\n",
    "plot_confusion_matrix(cm, target_names, normalized=True)\n",
    "\n",
    "print('\\nPromedio recall por clase (validacion) %.3f' % mean_recall(cm))\n",
    "Y_train_pred = classifier.predict(X_train)\n",
    "train_cm = confusion_matrix(Y_train, Y_train_pred)\n",
    "print('Promedio recall por clase (training) %.3f' % mean_recall(train_cm))\n",
    "print('Numero de ejemplos en validacion clasificados correctamente: %d' % accuracy_score(Y_test, Y_pred, normalize=False))\n",
    "print('\\nCaracteristicas ordenadas por importancia (RF)')\n",
    "feature_importances = classifier.feature_importances_\n",
    "importance_order = np.argsort(-feature_importances)\n",
    "feature_names = [\n",
    "    'Elevation',\n",
    "    'Aspect',\n",
    "    'Slope',\n",
    "    'Horizontal distance to hydrology',\n",
    "    'Vertical distance to hydrology',\n",
    "    'Horizontal distance to roadways',\n",
    "    'Hillshade 9am',\n",
    "    'Hillshade noon',\n",
    "    'Hillshade 3pm',\n",
    "    'Horizontal distance to fire points',\n",
    "    'Rawah Wilderness Area',\n",
    "    'Neota Wilderness Area',\n",
    "    'Comanche Peak Wilderness Area',\n",
    "    'Cache la Poudre Wilderness Area'\n",
    "] + [('Soil type %d' % (n+1)) for n in range(40)]\n",
    "for index in importance_order:\n",
    "    print('\\t%.3f %s' % (feature_importances[index], feature_names[index]))"
   ]
  }
 ],
 "metadata": {
  "colab": {
   "name": "El4106_tarea3.ipynb",
   "provenance": [],
   "version": "0.3.2"
  },
  "kernelspec": {
   "display_name": "Python 3",
   "language": "python",
   "name": "python3"
  },
  "language_info": {
   "codemirror_mode": {
    "name": "ipython",
    "version": 3
   },
   "file_extension": ".py",
   "mimetype": "text/x-python",
   "name": "python",
   "nbconvert_exporter": "python",
   "pygments_lexer": "ipython3",
   "version": "3.6.1"
  }
 },
 "nbformat": 4,
 "nbformat_minor": 1
}
