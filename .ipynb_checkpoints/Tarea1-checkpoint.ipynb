{
 "cells": [
  {
   "cell_type": "code",
   "execution_count": 1,
   "metadata": {},
   "outputs": [
    {
     "name": "stdout",
     "output_type": "stream",
     "text": [
      "<PIL.PpmImagePlugin.PpmImageFile image mode=L size=168x192 at 0x7F105C545E10>\n",
      "[[255 255 255 ...,  19  19  18]\n",
      " [255 255 255 ...,  19  19  19]\n",
      " [255 255 255 ...,  18  18  19]\n",
      " ..., \n",
      " [173 122  91 ...,  17  23  27]\n",
      " [193 159 120 ...,  19  23  27]\n",
      " [203 190 156 ...,  18  23  27]]\n",
      "1 [[255 255 255 ...,  18  23  27]]\n",
      "32256 [255 255 255 ...,  18  23  27]\n"
     ]
    }
   ],
   "source": [
    "import numpy as np\n",
    "from PIL import Image\n",
    "\n",
    "img = Image.open('/home/marco/Base_Patrones/CroppedYale/yaleB11/yaleB11_P00A+085E+20.pgm')\n",
    "arr = np.array(img)\n",
    "shape = arr.shape\n",
    "flat_arr = arr.ravel()\n",
    "vector = np.matrix(flat_arr)\n",
    "print(img) \n",
    "print(arr)\n",
    "print(len(vector),vector)\n",
    "print(len(flat_arr),flat_arr)\n",
    "\n",
    "\n",
    "\n"
   ]
  },
  {
   "cell_type": "code",
   "execution_count": 5,
   "metadata": {},
   "outputs": [
    {
     "name": "stdout",
     "output_type": "stream",
     "text": [
      "189\n",
      "56\n"
     ]
    }
   ],
   "source": [
    "import numpy as np\n",
    "from PIL import Image\n",
    "\n",
    "Im_traing= [\"-005E-10\",\"-020E-10\",\"-070E+45\",\"+000E+00\",\"+005E-10\",\"+020E-10\",\"+070E+45\"]\n",
    "Im_test=[\"-110E+65\",\"+110E+65\"]\n",
    "Traing=[]\n",
    "for x in range(28):\n",
    "    for s in Im_traing:\n",
    "        sujeto=11+x\n",
    "        if(sujeto==14):\n",
    "            continue\n",
    "        img_d=\"/home/marco/Base_Patrones/CroppedYale/\"+\"yaleB\"+str(sujeto)+\"/yaleB\"+str(sujeto)+\"_P00A\"+s+\".pgm\"\n",
    "        img = Image.open(img_d)\n",
    "        arr = np.array(img)\n",
    "        flat_arr = arr.flatten()\n",
    "        s=[flat_arr,sujeto]\n",
    "        Traing.append(s)\n",
    "Test=[]\n",
    "for x in range(28):\n",
    "    for s in Im_test:\n",
    "        ssujeto=11+x\n",
    "        if(sujeto==14):\n",
    "            continue\n",
    "        img_d=\"/home/marco/Base_Patrones/CroppedYale/\"+\"yaleB\"+str(sujeto)+\"/yaleB\"+str(sujeto)+\"_P00A\"+s+\".pgm\"\n",
    "        img = Image.open(img_d)\n",
    "        arr = np.array(img)muhco en sumar matrices phython\n",
    "        flat_arr = arr.flatten()\n",
    "        s=[flat_arr,sujeto]\n",
    "        Test.append(s) \n",
    "print(len(Traing))\n",
    "print(len(Test))"
   ]
  },
  {
   "cell_type": "code",
   "execution_count": 61,
   "metadata": {},
   "outputs": [
    {
     "data": {
      "text/plain": [
       "(32256, 189)"
      ]
     },
     "execution_count": 61,
     "metadata": {},
     "output_type": "execute_result"
    }
   ],
   "source": [
    "X_train1.shape\n"
   ]
  },
  {
   "cell_type": "code",
   "execution_count": 115,
   "metadata": {},
   "outputs": [
    {
     "name": "stdout",
     "output_type": "stream",
     "text": [
      "55\n"
     ]
    }
   ],
   "source": [
    "from IPython.display import clear_output\n",
    "from sklearn.model_selection import train_test_split\n",
    "from sklearn.preprocessing import MinMaxScaler\n",
    "from sklearn.neighbors import KNeighborsClassifier\n",
    "from sklearn.metrics import classification_report\n",
    "from sklearn.metrics import confusion_matrix\n",
    "import numpy as np\n",
    "X_train=np.matrix(np.empty(shape=((32256,0))))\n",
    "Y_train=np.matrix(np.empty(shape=(0,1)))\n",
    "\n",
    "X_test= np.matrix(np.empty(shape=(0,32256)))\n",
    "Y_test=np.matrix(np.empty(shape=(0,1)))\n",
    "for x in range(len(Traing)):\n",
    "    clear_output()\n",
    "    print(x)\n",
    "    s=[]\n",
    "    s.append(Traing[x][1])\n",
    "    X_train= np.insert(X_train,x,Traing[x][0],axis=1)\n",
    "    Y_train= np.insert(Y_train,0,s,axis=0)\n",
    "\n",
    "\n",
    "for x in range(len(Test)):\n",
    "    clear_output()\n",
    "    print(x)\n",
    "    s=[]\n",
    "    s.append(Test[x][1])\n",
    "    X_test= np.insert(X_test,x,Test[x][0],axis=0)\n",
    "    Y_test= np.insert(Y_test,0,s,axis=0)\n",
    "\n",
    "\n",
    "\n"
   ]
  },
  {
   "cell_type": "code",
   "execution_count": 116,
   "metadata": {},
   "outputs": [
    {
     "data": {
      "text/plain": [
       "(32256, 189)"
      ]
     },
     "execution_count": 116,
     "metadata": {},
     "output_type": "execute_result"
    }
   ],
   "source": [
    "X_train.shape"
   ]
  },
  {
   "cell_type": "code",
   "execution_count": 100,
   "metadata": {},
   "outputs": [
    {
     "data": {
      "text/plain": [
       "(56, 1)"
      ]
     },
     "execution_count": 100,
     "metadata": {},
     "output_type": "execute_result"
    }
   ],
   "source": [
    "Y_test.shape"
   ]
  },
  {
   "cell_type": "code",
   "execution_count": 97,
   "metadata": {},
   "outputs": [
    {
     "name": "stderr",
     "output_type": "stream",
     "text": [
      "/home/marco/anaconda2/envs/py36/lib/python3.6/site-packages/ipykernel_launcher.py:4: DataConversionWarning: A column-vector y was passed when a 1d array was expected. Please change the shape of y to (n_samples, ), for example using ravel().\n",
      "  after removing the cwd from sys.path.\n"
     ]
    },
    {
     "name": "stdout",
     "output_type": "stream",
     "text": [
      "Accuracy of K-NN classifier on training set: 0.71\n",
      "Accuracy of K-NN classifier on test set: 0.00\n"
     ]
    }
   ],
   "source": [
    "n_neighbors = 7\n",
    " \n",
    "knn = KNeighborsClassifier(n_neighbors)\n",
    "knn.fit(X_train, Y_train)\n",
    "\n",
    "print('Accuracy of K-NN classifier on training set: {:.2f}'\n",
    "     .format(knn.score(X_train, Y_train)))\n",
    "print('Accuracy of K-NN classifier on test set: {:.2f}'\n",
    "     .format(knn.score(X_test, Y_test)))\n"
   ]
  },
  {
   "cell_type": "code",
   "execution_count": 98,
   "metadata": {},
   "outputs": [
    {
     "name": "stdout",
     "output_type": "stream",
     "text": [
      "[[ 0  0]\n",
      " [56  0]]\n",
      "             precision    recall  f1-score   support\n",
      "\n",
      "       15.0       0.00      0.00      0.00         0\n",
      "       38.0       0.00      0.00      0.00        56\n",
      "\n",
      "avg / total       0.00      0.00      0.00        56\n",
      "\n"
     ]
    },
    {
     "name": "stderr",
     "output_type": "stream",
     "text": [
      "/home/marco/anaconda2/envs/py36/lib/python3.6/site-packages/sklearn/metrics/classification.py:1113: UndefinedMetricWarning: Precision and F-score are ill-defined and being set to 0.0 in labels with no predicted samples.\n",
      "  'precision', 'predicted', average, warn_for)\n",
      "/home/marco/anaconda2/envs/py36/lib/python3.6/site-packages/sklearn/metrics/classification.py:1115: UndefinedMetricWarning: Recall and F-score are ill-defined and being set to 0.0 in labels with no true samples.\n",
      "  'recall', 'true', average, warn_for)\n"
     ]
    }
   ],
   "source": [
    "pred = knn.predict(X_test)\n",
    "print(confusion_matrix(Y_test, pred))\n",
    "print(classification_report(Y_test, pred))\n"
   ]
  },
  {
   "cell_type": "code",
   "execution_count": 117,
   "metadata": {
    "collapsed": true
   },
   "outputs": [],
   "source": [
    "import matplotlib.pyplot as plt\n",
    "from sklearn.decomposition import PCA\n",
    "def myPCA(M,k):\n",
    "    pca = PCA(k)\n",
    "    kk = pca.fit_transform(M)\n",
    "    means= np.mean(M,axis=1)\n",
    "    return kk ,means\n",
    "    "
   ]
  },
  {
   "cell_type": "code",
   "execution_count": 118,
   "metadata": {},
   "outputs": [
    {
     "name": "stdout",
     "output_type": "stream",
     "text": [
      "(32256, 10) (32256, 1)\n"
     ]
    }
   ],
   "source": [
    "\n",
    "kk, means= myPCA(X_train1,10)\n",
    "\n",
    "print(kk.shape,means.shape)"
   ]
  },
  {
   "cell_type": "code",
   "execution_count": 120,
   "metadata": {},
   "outputs": [
    {
     "data": {
      "image/png": "[encoded data removed]",
      "text/plain": [
       "<PIL.Image.Image image mode=L size=168x192 at 0x7F0FB7C02278>"
      ]
     },
     "execution_count": 120,
     "metadata": {},
     "output_type": "execute_result"
    }
   ],
   "source": [
    "\n",
    "ss=(kk[:,3])\n",
    "ima= means.reshape(192,168)\n",
    "ims= Image.fromarray(np.uint8(ima))          \n",
    "ims"
   ]
  },
  {
   "cell_type": "code",
   "execution_count": 132,
   "metadata": {},
   "outputs": [],
   "source": [
    "import matplotlib.pyplot as plt\n",
    "from sklearn.decomposition import PCA\n",
    "def getProyection(I,V,means,k):\n",
    "    for x in range(k):\n",
    "        pca = PCA(n_components = x+1)\n",
    "        lista=[]\n",
    "        for y in range(x):\n",
    "            lista.append[y]\n",
    "        kk = pca.fit_transform(I)\n",
    "        kk1= V[:,lista]\n",
    "        print(kk.shape,kk1.shape)\n",
    "        img=pca.inverse_transform(kk1)\n",
    "        plt.imshow(img.reshape(192,168), cmap=plt.cm.Greys_r)\n",
    "        plt.title(u'nº de PCs = %s' % str(x))\n",
    "        plt.show()\n",
    "\n",
    "\n",
    "    "
   ]
  },
  {
   "cell_type": "code",
   "execution_count": 133,
   "metadata": {},
   "outputs": [
    {
     "name": "stdout",
     "output_type": "stream",
     "text": [
      "(32256, 1) (32256, 2)\n"
     ]
    },
    {
     "ename": "ValueError",
     "evalue": "shapes (32256,2) and (1,1) not aligned: 2 (dim 1) != 1 (dim 0)",
     "output_type": "error",
     "traceback": [
      "\u001b[0;31m---------------------------------------------------------------------------\u001b[0m",
      "\u001b[0;31mValueError\u001b[0m                                Traceback (most recent call last)",
      "\u001b[0;32m<ipython-input-133-f820667e753f>\u001b[0m in \u001b[0;36m<module>\u001b[0;34m()\u001b[0m\n\u001b[1;32m      3\u001b[0m \u001b[0mI\u001b[0m \u001b[0;34m=\u001b[0m \u001b[0mX_train\u001b[0m\u001b[0;34m[\u001b[0m\u001b[0;34m:\u001b[0m\u001b[0;34m,\u001b[0m\u001b[0;36m15\u001b[0m\u001b[0;34m]\u001b[0m\u001b[0;34m\u001b[0m\u001b[0m\n\u001b[1;32m      4\u001b[0m \u001b[0;34m\u001b[0m\u001b[0m\n\u001b[0;32m----> 5\u001b[0;31m \u001b[0mresp\u001b[0m \u001b[0;34m=\u001b[0m \u001b[0mgetProyection\u001b[0m\u001b[0;34m(\u001b[0m\u001b[0mI\u001b[0m\u001b[0;34m,\u001b[0m\u001b[0mV\u001b[0m\u001b[0;34m,\u001b[0m\u001b[0mmeans\u001b[0m\u001b[0;34m,\u001b[0m\u001b[0;36m1\u001b[0m\u001b[0;34m)\u001b[0m\u001b[0;34m\u001b[0m\u001b[0m\n\u001b[0m\u001b[1;32m      6\u001b[0m \u001b[0;34m\u001b[0m\u001b[0m\n\u001b[1;32m      7\u001b[0m \u001b[0;34m\u001b[0m\u001b[0m\n",
      "\u001b[0;32m<ipython-input-132-90104b6c2518>\u001b[0m in \u001b[0;36mgetProyection\u001b[0;34m(I, V, means, k)\u001b[0m\n\u001b[1;32m      7\u001b[0m         \u001b[0mkk1\u001b[0m\u001b[0;34m=\u001b[0m \u001b[0mV\u001b[0m\u001b[0;34m[\u001b[0m\u001b[0;34m:\u001b[0m\u001b[0;34m,\u001b[0m\u001b[0;34m[\u001b[0m\u001b[0;36m0\u001b[0m\u001b[0;34m,\u001b[0m\u001b[0mx\u001b[0m\u001b[0;34m]\u001b[0m\u001b[0;34m]\u001b[0m\u001b[0;34m\u001b[0m\u001b[0m\n\u001b[1;32m      8\u001b[0m         \u001b[0mprint\u001b[0m\u001b[0;34m(\u001b[0m\u001b[0mkk\u001b[0m\u001b[0;34m.\u001b[0m\u001b[0mshape\u001b[0m\u001b[0;34m,\u001b[0m\u001b[0mkk1\u001b[0m\u001b[0;34m.\u001b[0m\u001b[0mshape\u001b[0m\u001b[0;34m)\u001b[0m\u001b[0;34m\u001b[0m\u001b[0m\n\u001b[0;32m----> 9\u001b[0;31m         \u001b[0mimg\u001b[0m\u001b[0;34m=\u001b[0m\u001b[0mpca\u001b[0m\u001b[0;34m.\u001b[0m\u001b[0minverse_transform\u001b[0m\u001b[0;34m(\u001b[0m\u001b[0mkk1\u001b[0m\u001b[0;34m)\u001b[0m\u001b[0;34m\u001b[0m\u001b[0m\n\u001b[0m\u001b[1;32m     10\u001b[0m         \u001b[0mplt\u001b[0m\u001b[0;34m.\u001b[0m\u001b[0mimshow\u001b[0m\u001b[0;34m(\u001b[0m\u001b[0mimg\u001b[0m\u001b[0;34m.\u001b[0m\u001b[0mreshape\u001b[0m\u001b[0;34m(\u001b[0m\u001b[0;36m192\u001b[0m\u001b[0;34m,\u001b[0m\u001b[0;36m168\u001b[0m\u001b[0;34m)\u001b[0m\u001b[0;34m,\u001b[0m \u001b[0mcmap\u001b[0m\u001b[0;34m=\u001b[0m\u001b[0mplt\u001b[0m\u001b[0;34m.\u001b[0m\u001b[0mcm\u001b[0m\u001b[0;34m.\u001b[0m\u001b[0mGreys_r\u001b[0m\u001b[0;34m)\u001b[0m\u001b[0;34m\u001b[0m\u001b[0m\n\u001b[1;32m     11\u001b[0m         \u001b[0mplt\u001b[0m\u001b[0;34m.\u001b[0m\u001b[0mtitle\u001b[0m\u001b[0;34m(\u001b[0m\u001b[0;34mu'nº de PCs = %s'\u001b[0m \u001b[0;34m%\u001b[0m \u001b[0mstr\u001b[0m\u001b[0;34m(\u001b[0m\u001b[0mx\u001b[0m\u001b[0;34m)\u001b[0m\u001b[0;34m)\u001b[0m\u001b[0;34m\u001b[0m\u001b[0m\n",
      "\u001b[0;32m/home/marco/anaconda2/envs/py36/lib/python3.6/site-packages/sklearn/decomposition/base.py\u001b[0m in \u001b[0;36minverse_transform\u001b[0;34m(self, X, y)\u001b[0m\n\u001b[1;32m    160\u001b[0m                             self.components_) + self.mean_\n\u001b[1;32m    161\u001b[0m         \u001b[0;32melse\u001b[0m\u001b[0;34m:\u001b[0m\u001b[0;34m\u001b[0m\u001b[0m\n\u001b[0;32m--> 162\u001b[0;31m             \u001b[0;32mreturn\u001b[0m \u001b[0mfast_dot\u001b[0m\u001b[0;34m(\u001b[0m\u001b[0mX\u001b[0m\u001b[0;34m,\u001b[0m \u001b[0mself\u001b[0m\u001b[0;34m.\u001b[0m\u001b[0mcomponents_\u001b[0m\u001b[0;34m)\u001b[0m \u001b[0;34m+\u001b[0m \u001b[0mself\u001b[0m\u001b[0;34m.\u001b[0m\u001b[0mmean_\u001b[0m\u001b[0;34m\u001b[0m\u001b[0m\n\u001b[0m",
      "\u001b[0;31mValueError\u001b[0m: shapes (32256,2) and (1,1) not aligned: 2 (dim 1) != 1 (dim 0)"
     ]
    }
   ],
   "source": [
    "V, means= myPCA(X_train,10)\n",
    "\n",
    "I = X_train[:,15]\n",
    "\n",
    "resp = getProyection(I,V,means,1)\n",
    "    \n",
    "\n",
    "\n"
   ]
  },
  {
   "cell_type": "code",
   "execution_count": 114,
   "metadata": {},
   "outputs": [
    {
     "data": {
      "text/plain": [
       "(189, 1)"
      ]
     },
     "execution_count": 114,
     "metadata": {},
     "output_type": "execute_result"
    }
   ],
   "source": [
    "resp[0].shape"
   ]
  },
  {
   "cell_type": "code",
   "execution_count": 19,
   "metadata": {},
   "outputs": [
    {
     "data": {
      "image/png": "[encoded data removed]",
      "text/plain": [
       "<PIL.Image.Image image mode=L size=168x192 at 0x7F0FB481B780>"
      ]
     },
     "execution_count": 19,
     "metadata": {},
     "output_type": "execute_result"
    }
   ],
   "source": [
    "ima= I.reshape(192,168)\n",
    "ims= Image.fromarray(np.uint8(ima))          \n",
    "ims"
   ]
  },
  {
   "cell_type": "code",
   "execution_count": null,
   "metadata": {
    "collapsed": true
   },
   "outputs": [],
   "source": []
  }
 ],
 "metadata": {
  "kernelspec": {
   "display_name": "Python 3",
   "language": "python",
   "name": "python3"
  },
  "language_info": {
   "codemirror_mode": {
    "name": "ipython",
    "version": 3
   },
   "file_extension": ".py",
   "mimetype": "text/x-python",
   "name": "python",
   "nbconvert_exporter": "python",
   "pygments_lexer": "ipython3",
   "version": "3.6.1"
  }
 },
 "nbformat": 4,
 "nbformat_minor": 2
}
