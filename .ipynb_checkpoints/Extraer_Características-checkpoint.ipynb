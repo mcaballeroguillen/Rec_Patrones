{
 "cells": [
  {
   "cell_type": "markdown",
   "metadata": {},
   "source": [
    "## Cargar Datos "
   ]
  },
  {
   "cell_type": "code",
   "execution_count": 2,
   "metadata": {},
   "outputs": [
    {
     "name": "stderr",
     "output_type": "stream",
     "text": [
      "/home/marco/anaconda2/envs/py36/lib/python3.6/site-packages/h5py/__init__.py:34: FutureWarning: Conversion of the second argument of issubdtype from `float` to `np.floating` is deprecated. In future, it will be treated as `np.float64 == np.dtype(float).type`.\n",
      "  from ._conv import register_converters as _register_converters\n"
     ]
    }
   ],
   "source": [
    "import tensorflow as tf\n",
    "(x_train, y_train), (x_test, y_test) = tf.keras.datasets.mnist.load_data()"
   ]
  },
  {
   "cell_type": "code",
   "execution_count": 3,
   "metadata": {},
   "outputs": [
    {
     "name": "stdout",
     "output_type": "stream",
     "text": [
      "3\n"
     ]
    },
    {
     "data": {
      "image/png": "[encoded data removed]",
      "text/plain": [
       "<matplotlib.figure.Figure at 0x7f06cb072c88>"
      ]
     },
     "metadata": {},
     "output_type": "display_data"
    }
   ],
   "source": [
    "import matplotlib.pyplot as plt\n",
    "\n",
    "image_index = 50000 # You may select anything up to 60,000\n",
    "print(y_train[image_index]) # The label is 8\n",
    "plt.imshow(x_train[image_index], cmap='Greys')\n",
    "plt.show()"
   ]
  },
  {
   "cell_type": "markdown",
   "metadata": {},
   "source": [
    "##  Reducir Data set\n",
    "Esto se hizo para no trabajar con todos los datos en un inicio.\n",
    "\n",
    "Primero se separan las imagenes por números, luego se escogén al azar 1000 imagenes de cada número, obteniendo \n",
    "un data ser de 10,000 imagenes,  1000 por cada número\n",
    " "
   ]
  },
  {
   "cell_type": "code",
   "execution_count": 4,
   "metadata": {},
   "outputs": [
    {
     "name": "stdout",
     "output_type": "stream",
     "text": [
      "10 10\n"
     ]
    }
   ],
   "source": [
    "list_index = []\n",
    "for x in range(10):\n",
    "    idex= y_train==x\n",
    "    list_index.append(idex)\n",
    "    \n",
    "listtx=[]\n",
    "listty=[]\n",
    "for indexs in list_index:\n",
    "    numberx = x_train[indexs]\n",
    "    numbery = y_train[indexs]\n",
    "    listtx.append(numberx)\n",
    "    listty.append(numbery)\n",
    "    \n",
    "\n",
    "\n",
    "print(len(listtx),len(listty))"
   ]
  },
  {
   "cell_type": "code",
   "execution_count": 5,
   "metadata": {},
   "outputs": [
    {
     "name": "stdout",
     "output_type": "stream",
     "text": [
      "(10000, 28, 28) (10000,)\n"
     ]
    }
   ],
   "source": [
    "import numpy as np\n",
    "new_matrixx =[]\n",
    "new_matrixy = np.array([])\n",
    "\n",
    "for data in listtx:\n",
    "    indices = np.arange(len(data))\n",
    "    rnd_indices = np.random.choice(indices, size=1000)\n",
    "    result= data[rnd_indices]\n",
    "    for img in result:\n",
    "        new_matrixx.append(img)\n",
    "\n",
    "new_matrixx= np.array(new_matrixx)\n",
    "for data in listty:\n",
    "    indices = np.arange(len(data))\n",
    "    rnd_indices = np.random.choice(indices, size=1000)\n",
    "    result= data[rnd_indices]\n",
    "    new_matrixy = np.concatenate((new_matrixy,result),axis=0)\n",
    "\n",
    "print(new_matrixx.shape,new_matrixy.shape)\n"
   ]
  },
  {
   "cell_type": "markdown",
   "metadata": {},
   "source": [
    "## Sumas\n",
    "\n",
    "Cambiar   el valor entre 0 y 1 para sumar vertical o Horizatalmente"
   ]
  },
  {
   "cell_type": "code",
   "execution_count": 14,
   "metadata": {},
   "outputs": [
    {
     "name": "stdout",
     "output_type": "stream",
     "text": [
      "(10000, 28)\n"
     ]
    }
   ],
   "source": [
    "matrix_final = []\n",
    "for imagen in new_matrixx:\n",
    "    matrix = np.asmatrix(imagen)\n",
    "    vec_result = matrix.sum(axis=1)\n",
    "    matrix_final.append(vec_result)\n",
    "matrix_final=np.asmatrix(np.array(matrix_final))\n",
    "print(matrix_final.shape)"
   ]
  },
  {
   "cell_type": "markdown",
   "metadata": {},
   "source": [
    "## PCA"
   ]
  },
  {
   "cell_type": "code",
   "execution_count": 6,
   "metadata": {},
   "outputs": [
    {
     "name": "stdout",
     "output_type": "stream",
     "text": [
      "(10000, 784)\n"
     ]
    }
   ],
   "source": [
    "matrix_final = []\n",
    "for imagen in new_matrixx:\n",
    "    vector = imagen.flatten()\n",
    "    matrix_final.append(vector)\n",
    "matrix_final=np.asmatrix(np.array(matrix_final))\n",
    "print(matrix_final.shape)\n",
    "    "
   ]
  },
  {
   "cell_type": "code",
   "execution_count": 7,
   "metadata": {},
   "outputs": [
    {
     "data": {
      "text/plain": [
       "PCA(copy=True, iterated_power='auto', n_components=10, random_state=None,\n",
       "  svd_solver='auto', tol=0.0, whiten=False)"
      ]
     },
     "execution_count": 7,
     "metadata": {},
     "output_type": "execute_result"
    }
   ],
   "source": [
    "from sklearn.decomposition import PCA\n",
    "pca = PCA(n_components=10)\n",
    "pca.fit(matrix_final) "
   ]
  },
  {
   "cell_type": "code",
   "execution_count": 12,
   "metadata": {},
   "outputs": [
    {
     "data": {
      "image/png": "[encoded data removed]",
      "text/plain": [
       "<matplotlib.figure.Figure at 0x7f06c6020470>"
      ]
     },
     "metadata": {},
     "output_type": "display_data"
    }
   ],
   "source": [
    "V = pca.components_\n",
    "import pylab\n",
    "from pylab import imread,subplot,imshow,title,gray,figure,show,NullLocator\n",
    "i=1\n",
    "for x in range(10):\n",
    "    ax = subplot(2,5,i,frame_on=False)\n",
    "    ax.xaxis.set_major_locator(NullLocator()) \n",
    "    ax.yaxis.set_major_locator(NullLocator())\n",
    "    imshow(V[x].reshape(28,28))\n",
    "    title(str(x))\n",
    "    gray()\n",
    "    i=i+1\n",
    "\n",
    "gray()\n",
    "pylab.show()"
   ]
  },
  {
   "cell_type": "code",
   "execution_count": 14,
   "metadata": {},
   "outputs": [
    {
     "name": "stdout",
     "output_type": "stream",
     "text": [
      "(10000, 10)\n"
     ]
    }
   ],
   "source": [
    "pca_matrix =[]\n",
    "for vector in matrix_final:\n",
    "    proyection = pca.transform(vector)\n",
    "    pca_matrix.append(proyection)\n",
    "matrix_final=np.asmatrix(np.array(pca_matrix))\n",
    "print(matrix_final.shape)"
   ]
  },
  {
   "cell_type": "code",
   "execution_count": 15,
   "metadata": {
    "collapsed": true
   },
   "outputs": [],
   "source": [
    "np.savetxt(\"xdata.csv\", matrix_final, delimiter=\",\")\n",
    "np.savetxt(\"ydata.csv\",new_matrixy,delimiter=\",\")"
   ]
  },
  {
   "cell_type": "code",
   "execution_count": null,
   "metadata": {
    "collapsed": true
   },
   "outputs": [],
   "source": []
  }
 ],
 "metadata": {
  "kernelspec": {
   "display_name": "Python 3",
   "language": "python",
   "name": "python3"
  },
  "language_info": {
   "codemirror_mode": {
    "name": "ipython",
    "version": 3
   },
   "file_extension": ".py",
   "mimetype": "text/x-python",
   "name": "python",
   "nbconvert_exporter": "python",
   "pygments_lexer": "ipython3",
   "version": "3.6.1"
  }
 },
 "nbformat": 4,
 "nbformat_minor": 2
}
